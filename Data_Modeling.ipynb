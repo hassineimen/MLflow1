{
  "nbformat": 4,
  "nbformat_minor": 0,
  "metadata": {
    "colab": {
      "provenance": []
    },
    "kernelspec": {
      "name": "python3",
      "display_name": "Python 3"
    },
    "language_info": {
      "name": "python"
    }
  },
  "cells": [
    {
      "cell_type": "code",
      "execution_count": 12,
      "metadata": {
        "id": "r9pACuRw9TiR"
      },
      "outputs": [],
      "source": [
        "# Importation des bibliothèques nécessaires\n",
        "import pandas as pd\n",
        "from sklearn.model_selection import train_test_split\n",
        "from sklearn.linear_model import LinearRegression\n",
        "from sklearn.metrics import mean_absolute_error, mean_squared_error, r2_score\n",
        "import xgboost as xgb\n",
        "from sklearn.preprocessing import StandardScaler, LabelEncoder"
      ]
    },
    {
      "cell_type": "code",
      "source": [
        "# 1. Chargement des données prétraitées\n",
        "df = pd.read_csv('preprocessed_data.csv')"
      ],
      "metadata": {
        "id": "v3qz3XlH9VYJ"
      },
      "execution_count": 13,
      "outputs": []
    },
    {
      "cell_type": "code",
      "source": [
        "# 2. Sélection des caractéristiques (features) et de la variable cible (target)\n",
        "X = df.drop(columns=['resale_price'])  # Caractéristiques\n",
        "y = df['resale_price']  # Variable cible"
      ],
      "metadata": {
        "id": "n7s3Yz9Q9raD"
      },
      "execution_count": 14,
      "outputs": []
    },
    {
      "cell_type": "code",
      "source": [
        "# 3. Gestion des colonnes non numériques\n",
        "# Convertir les colonnes de type date en format numérique (par exemple, années ou jours depuis une date de référence)\n",
        "if 'lease_commence_date' in X.columns:\n",
        "    X['lease_commence_date'] = pd.to_datetime(X['lease_commence_date'], errors='coerce')\n",
        "    X['lease_commence_date'] = (X['lease_commence_date'] - X['lease_commence_date'].min()) / pd.Timedelta(days=1)  # Nombre de jours depuis la première date\n",
        "\n",
        "# Encoder les variables catégorielles si nécessaire\n",
        "for col in X.select_dtypes(include=['object']).columns:\n",
        "    le = LabelEncoder()\n",
        "    X[col] = le.fit_transform(X[col].astype(str))"
      ],
      "metadata": {
        "id": "o9gM6HoP9xf5"
      },
      "execution_count": 15,
      "outputs": []
    },
    {
      "cell_type": "code",
      "source": [
        "# 4. Division des données en ensembles d'entraînement et de test\n",
        "from sklearn.model_selection import train_test_split\n",
        "X_train, X_test, y_train, y_test = train_test_split(X, y, test_size=0.2, random_state=42)\n",
        "\n",
        "# 5. Normalisation des données\n",
        "scaler = StandardScaler()\n",
        "X_train_scaled = scaler.fit_transform(X_train)\n",
        "X_test_scaled = scaler.transform(X_test)\n"
      ],
      "metadata": {
        "id": "yMe3qzdW91XJ"
      },
      "execution_count": 18,
      "outputs": []
    },
    {
      "cell_type": "code",
      "source": [
        "# 6. Modèle de régression linéaire\n",
        "from sklearn.linear_model import LinearRegression\n",
        "lr_model = LinearRegression()\n",
        "lr_model.fit(X_train_scaled, y_train)\n",
        "\n",
        "# Prédictions avec le modèle de régression linéaire\n",
        "y_pred_lr = lr_model.predict(X_test_scaled)\n",
        "\n",
        "# Évaluation du modèle de régression linéaire\n",
        "from sklearn.metrics import mean_absolute_error, mean_squared_error, r2_score\n",
        "mae_lr = mean_absolute_error(y_test, y_pred_lr)\n",
        "mse_lr = mean_squared_error(y_test, y_pred_lr)\n",
        "r2_lr = r2_score(y_test, y_pred_lr)\n",
        "\n",
        "print(\"Régression Linéaire - Évaluation :\")\n",
        "print(f\"MAE: {mae_lr}\")\n",
        "print(f\"MSE: {mse_lr}\")\n",
        "print(f\"R2: {r2_lr}\")"
      ],
      "metadata": {
        "colab": {
          "base_uri": "https://localhost:8080/"
        },
        "id": "aZCUfHD1_AT9",
        "outputId": "4d1f45a0-4645-4aca-e434-71a60506bd8a"
      },
      "execution_count": 17,
      "outputs": [
        {
          "output_type": "stream",
          "name": "stdout",
          "text": [
            "Régression Linéaire - Évaluation :\n",
            "MAE: 72928.70521472645\n",
            "MSE: 10448395308.479979\n",
            "R2: 0.6326645568368452\n"
          ]
        }
      ]
    },
    {
      "cell_type": "code",
      "source": [
        "# 2. Entraînement du modèle XGBoost\n",
        "model = xgb.XGBRegressor(objective='reg:squarederror', n_estimators=100, learning_rate=0.1, max_depth=5)\n",
        "model.fit(X_train_scaled, y_train)\n",
        "\n",
        "# 3. Prédiction\n",
        "y_pred = model.predict(X_test_scaled)\n",
        "\n",
        "# 4. Évaluation\n",
        "mae = mean_absolute_error(y_test, y_pred)\n",
        "mse = mean_squared_error(y_test, y_pred)\n",
        "r2 = r2_score(y_test, y_pred)\n",
        "\n",
        "# 5. Affichage des résultats\n",
        "print(f\"MAE: {mae}\")\n",
        "print(f\"MSE: {mse}\")\n",
        "print(f\"R²: {r2}\")"
      ],
      "metadata": {
        "colab": {
          "base_uri": "https://localhost:8080/"
        },
        "id": "LrLJbJwS_FAY",
        "outputId": "82248c4f-5d5d-4df4-c6e5-a677f5a4ad9f"
      },
      "execution_count": 19,
      "outputs": [
        {
          "output_type": "stream",
          "name": "stdout",
          "text": [
            "MAE: 40151.03920628834\n",
            "MSE: 3579235005.6439905\n",
            "R²: 0.8741644206439788\n"
          ]
        }
      ]
    },
    {
      "cell_type": "code",
      "source": [],
      "metadata": {
        "id": "bznXH84YAEFM"
      },
      "execution_count": null,
      "outputs": []
    }
  ]
}